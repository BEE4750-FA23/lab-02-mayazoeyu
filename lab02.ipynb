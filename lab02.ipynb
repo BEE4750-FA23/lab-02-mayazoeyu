{
  "cells": [
    {
      "cell_type": "markdown",
      "metadata": {},
      "source": [
        "# BEE 4750 Lab 2: Uncertainty and Monte Carlo"
      ],
      "id": "7d46f3a8-5e06-4dbf-8f7c-844dd77bd9f8"
    },
    {
      "cell_type": "markdown",
      "metadata": {},
      "source": [
        "**Name**:\n",
        "\n",
        "**ID**:"
      ],
      "id": "cbdd04fd-77fc-42b6-a726-52f54a009dd4"
    },
    {
      "cell_type": "markdown",
      "metadata": {},
      "source": [
        "> **Due Date**\n",
        ">\n",
        "> Friday, 9/22/23, 9:00pm\n",
        "\n",
        "## Setup\n",
        "\n",
        "The following code should go at the top of most Julia scripts; it will\n",
        "load the local package environment and install any needed packages. You\n",
        "will see this often and shouldn’t need to touch it."
      ],
      "id": "0b134d7e-7b0b-4102-8c9a-74ec4af73f5b"
    },
    {
      "cell_type": "code",
      "execution_count": 1,
      "metadata": {},
      "outputs": [],
      "source": [
        "import Pkg\n",
        "Pkg.activate(\".\")\n",
        "Pkg.instantiate()"
      ],
      "id": "9c552d8a"
    },
    {
      "cell_type": "code",
      "execution_count": 2,
      "metadata": {},
      "outputs": [],
      "source": [
        "using Random # random number generation\n",
        "using Distributions # probability distributions and interface\n",
        "using Statistics # basic statistical functions, including mean\n",
        "using Plots # plotting"
      ],
      "id": "8ad996b8"
    },
    {
      "cell_type": "markdown",
      "metadata": {},
      "source": [
        "## Introduction\n",
        "\n",
        "In this lab, you will use Monte Carlo analysis to estimate the expected\n",
        "winnings for a couple of different games of chance.\n",
        "\n",
        "Monte Carlo methods involve the simulation of random numbers from\n",
        "probability distributions. In an environmental context, we often\n",
        "propagate these random numbers through some more complicated model and\n",
        "then compute a resulting statistic which is relevant for assessing\n",
        "performance or risk, such as an average outcome or a particular\n",
        "quantile.\n",
        "\n",
        "Julia provides a common interface for probability distributions with the\n",
        "[`Distributions.jl`\n",
        "package](https://juliastats.org/Distributions.jl/stable/). The basic\n",
        "workflow for sampling from a distribution is:\n",
        "\n",
        "1.  Set up the distribution. The specific syntax depends on the\n",
        "    distribution and what parameters are required, but the general call\n",
        "    is the similar. For a normal distribution or a uniform distribution,\n",
        "    the syntax is\n",
        "\n",
        "    ``` julia\n",
        "    # you don't have to name this \"normal_distribution\"\n",
        "    # μ is the mean and σ is the standard deviation\n",
        "    normal_distribution = Normal(μ, σ)\n",
        "    # a is the upper bound and b is the lower bound; these can be set to +Inf or -Inf for an unbounded distribution in one or both directions.\n",
        "    uniform_distribution = Uniform(a, b)\n",
        "    ```\n",
        "\n",
        "    There are lots of both\n",
        "    [univariate](https://juliastats.org/Distributions.jl/stable/univariate/#Index)\n",
        "    and\n",
        "    [multivariate](https://juliastats.org/Distributions.jl/stable/multivariate/)\n",
        "    distributions, as well as the ability to create your own, but we\n",
        "    won’t do anything too exotic here.\n",
        "\n",
        "2.  Draw samples. This uses the `rand()` command (which, when used\n",
        "    without a distribution, just samples uniformly from the interval\n",
        "    $[0, 1]$.) For example, to sample from our normal distribution\n",
        "    above:\n",
        "\n",
        "    ``` julia\n",
        "    # draw n samples\n",
        "    rand(normal_distribution, n)\n",
        "    ```\n",
        "\n",
        "Putting this together, let’s say that we wanted to simulate 100\n",
        "six-sided dice rolls. We could use a [Discrete Uniform\n",
        "distribution](https://juliastats.org/Distributions.jl/stable/univariate/#Distributions.DiscreteUniform)."
      ],
      "id": "654025e9-0b4c-4abc-a436-cd26c90b4ae8"
    },
    {
      "cell_type": "code",
      "execution_count": 3,
      "metadata": {},
      "outputs": [
        {
          "output_type": "display_data",
          "metadata": {},
          "data": {
            "text/plain": [
              "100-element Vector{Int64}:\n",
              " 5\n",
              " 6\n",
              " 2\n",
              " 6\n",
              " 1\n",
              " 5\n",
              " 6\n",
              " 1\n",
              " 2\n",
              " 5\n",
              " 3\n",
              " 4\n",
              " 2\n",
              " ⋮\n",
              " 5\n",
              " 1\n",
              " 1\n",
              " 5\n",
              " 6\n",
              " 1\n",
              " 3\n",
              " 1\n",
              " 2\n",
              " 6\n",
              " 4\n",
              " 2"
            ]
          }
        }
      ],
      "source": [
        "dice_dist = DiscreteUniform(1, 6) # can generate any integer between 1 and 6\n",
        "dice_rolls = rand(dice_dist, 100) # simulate rolls"
      ],
      "id": "f1ad3dfe"
    },
    {
      "cell_type": "markdown",
      "metadata": {},
      "source": [
        "And then we can plot a histogram of these rolls:"
      ],
      "id": "20613bdd-d6ca-4ed5-85b3-77d209862743"
    },
    {
      "cell_type": "code",
      "execution_count": 4,
      "metadata": {},
      "outputs": [
        {
          "output_type": "display_data",
          "metadata": {},
          "data": {
            "text/html": [
              "<img src=\"data:image/png;base64,iVBORw0KGgoAAAANSUhEUgAAAoUAAAHMCAIAAAAs9EW6AAAABmJLR0QA/wD/AP+gvaeTAAAgAElEQVR4nO3de1iUdd748e8A4wxykkFEkGBDWlFARCFxrTBBybOrbrmbq6nl1aZWS+zmXtte2f62LXXbTr82vTzxwywz0zyRJ8TKfGRXDEEBTTA8gAhyBuU08/tjnh15cHTtEeYDzvv118w9N/P9yIW8mbln7tGYTCYFAABEOUgPAAAA6DEAAF0APQYAQB49BgBAHj0GAEAePQYAQF7H97ipqWnBggVBQUG9e/cePXr0iRMnzNuNRuNLL73k6+sbGBi4cuXKDl8XAIDuq+N73NLSEhwc/PXXX5eUlIwZM2bKlCnmtzinpKSkp6fn5+enpaW9+uqrWVlZHb40AADdlKZTzwdSXl7u7e1dVVXl4eHx6KOPzp49e+7cuUqpF154wcnJ6a233uq8pQEA6EacOvXeP/vss6ioKA8PD6VUQUFBSEiIeXtISMjevXtv84W5ubl6vd5y1c/Pr+1VAADuMZ3Y46NHj7722muW7tbV1Tk7O5svu7i41NTU3OoLGxsbIyMjQ0NDLVv++Mc/JiQkdOBsCb98urpPeAfeYbdzvbI0adzgWb+cKT2IpIaGhp49e0pPIamlpcVoNPbo0UN6EEn8GLS2tra0tOh0OulBJHX2j4GDg8N/vP/O6nFmZub06dM//fTTiIgI85Y+ffpUVlaaL1dUVPj4+Nzqa00mk6ur6/HjxztpNqXUsYO7m975f0pjxy8v3/9OQUGhq6ur9BzC7Pw70NzcbDQa7fwXsbL7H4OWlpaWlhaegxT/MeiUIJ04cWLy5Mlr1qyJjY21bIyOjv7222/Nlw8fPhwdHd0ZSwMA0B11/OPjqqqq+Pj4YcOGZWdnZ2dnK6WeeeYZg8HwwgsvJCQk9O3bt6Sk5PDhw6tWrerwpQEA6KY6vseOjo5JSUk3b4+KikpNTf3444+dnZ2PHDni5eXV4UsDANBNdXyP3dzcXn75Zas3DR8+fPjw4R2+IgAA3Z0dv6AJAIAugx4DACCPHgMAII8eAwAgjx4DACCPHgMAII8eAwAgjx4DACCPHgMAII8eAwAgjx4DACCPHgMAII8eAwAgjx4DACCv4z9vEd1D0fF3du764MOV0nNI6unsfPlikZMT/wsAyOM3kb1qrDOOXnht6v+RnkOSMbFPa2srPQbQFfB8NQAA8ugxAADy6DEAAPLoMQAA8ugxAADy6DEAAPLoMQAA8ugxAADy6DEAAPLoMQAA8ugxAADy6DEAAPLoMQAA8ugxAADy6DEAAPLoMQAA8ugxAADy6DEAAPLoMQAA8ugxAADy6DEAAPLoMQAA8ugxAADy6DEAAPLoMQAA8ugxAADy6DEAAPLoMQAA8ugxAADy6DEAAPLoMQAA8ugxAADy6DEAAPLoMQAA8ugxAADy6DEAAPLoMQAA8ugxAADynKQHAMS0trYmLXnF0clRehAxxlbjtCkTRsXGSg8CgB7DjrU0N//fsgDlYMf/C/IPKbWLHgNdgR3/JgKUUg/NVU466SHktDQqdUl6CABKcfwYAICugB4DACCPHgMAII8eAwAgjx4DACCPHgMAII8eAwAgjx4DACCPHgMAII8eAwAgjx4DACCPHgMAII8eAwAgjx4DACCPHgMAII8eAwAgjx4DACDPSXoAAICk8vLygwcParVa6UEkaTSaGTNmyM5AjwHArm3bti1x2T96BMdIDyLp2pFP4uPje/XqJTgDPQYAu2YymdTAuJrpK6QHkeRyItVkMsnOwPFjAADk0WMAAOTRYwAA5NFjAADk0WMAAOTRYwAA5NFjAADk0WMAAOTRYwAA5NFjAADk0WMAAOTRYwAA5NFjAADk0WMAAOR1So+PHz++aNGihx9++JVXXrFs/O6776LaOHfuXGcsDQBAd9Qpn39cUVHRv3//+vr6ttGtra1taWnZunWr+aq/v39nLA0AQHfUKY+P4+Pjf/vb34aEhLTbrtfrg/5Nq9V2xtIAAHRHnfL4+Fays7MNBoOnp+ecOXNeeeUVB4db/jVgNBoLCwstV/39/Xv06GGTGQHYl/Ly8itXrkhPIam8vFx6BChlyx4PHDgwJyenf//+p06dmjZtmsFgWLRokdU9TSZTXV1dXFyc+apGo1m+fPljjz3WkdOYTB15b0C31dzcXFdXJz2FpGExI68rrebWDw/ueY2VV9RDT0lPIcykVH19fec9cevg4NCzZ8/b72O7Hnt7e3t7eyulQkNDX3jhhd27d9+qxxqNxt3dvXNf8KXRdOKdA92HVqt1dXWVnkJSU3Nzw59PKp0dfxNWz7bpM6VdkkYpFxcX2f8LMn8SXr582d3dXWRpAAC6oE75q6igoGDLli1fffVVSUnJsmXLHnnkkREjRnzwwQfNzc2BgYE5OTlvv/12ampqZywNAEB31InPUsTGxra9OmzYsC1btmRlZfn6+h49ejQ0NLTzlgYAoHvplB7379//5ZdfbrcxJiYmJiamM5YDAKC7s9+XFAIA0HXQYwAA5NFjAADk0WMAAOTRYwAA5NFjAADk0WMAAOTRYwAA5NFjAADk0WMAAOTRYwAA5NFjAADk0WMAAOTRYwAA5NFjAADk0WMAAOTRYwAA5NFjAADk0WMAAOTRYwAA5NFjAADk0WMAAOTRYwAA5NFjAADk0WMAAOTRYwAA5NFjAADk0WMAAOTRYwAA5NFjAADk0WMAAOTRYwAA5NFjAADk0WMAAOQ5SQ8AQM6Vgs3/tS/jeJb0HJKuXbsuPQKgFD0G7FpVcVnv8NJhT0vPIeq/pktPAChFjwE7p/EKUAPjpKcQpZEeAFBKcfwYAICugB4DACCPHgMAII8eAwAgjx4DACCPHgMAII8eAwAgjx4DACCPHgMAII8eAwAgjx4DACCPHgMAII8eAwAgjx4DACCPHgMAII8eAwAgjx4DACCPHgMAII8eAwAgjx4DACCPHgMAII8eAwAgjx4DACCPHgMAII8eAwAgjx4DACCPHgMAII8eAwAgjx4DACCPHgMAII8eAwAgjx4DACCPHgMAII8eAwAgjx4DACDPSo9Pnz5dWVnZbmN5eXl+fr5NRgIAwO5Y6fEzzzyTlpbWbuP27dvnzJljk5EAALA7d/p8dWNjo06n69RRAACwW06WS7W1tRkZGUqpqqqqnJycXr16WW6qqqpKTk4eNGiQwIAAANiBGz0+e/bsmDFjzJdzcnLa7RccHJyUlGS7uQAAsCc3ejxo0KCCggKl1MyZM+fMmTNu3DjLTZ6enp6engLTAQBgH270WKfTBQUFKaW++OILDw8PFxcXuakAALAvTjdv8vPzM1+orq42Go03dnVycnNzs9FcAADYEyuvr66qqpo3b56rq2uvXr0MbcTHx9t+PgAA7IGVx8cvvvjitm3bkpKSBg4c6OBwI9gGg8GGgwEAYEes9Hjfvn1vvPHGc889Z/tpAACwT1aer3Z0dLQcQgYAADZgpcezZ8/+7LPPbD8KAAB2y8rz1bGxsZs3bx4/fvzEiRO9vb0t2w0GQ1xcnA1nAwDAXljp8V/+8pezZ8+ePXv2yy+/bLv9wQcfNJ9QEwAAdCwrPd69e3dLS4uVXZ2s7AwAAO6elcRy0g8AAGzMSo+Li4uvX79+83adTtevX7/OHwkAALtjpcczZ8785ptvbt7O8WMAADqJlR7//e9/r6qqslwtLS1NTU09evTosmXL7vBOU1NTd+3adfbs2eeff37ixImW7X/9619TUlL0ev0f/vCHJ5544i5HBwDgnmGlx1FRUe22PPnkk4sXL960adOoUaPu5E7PnTsXEhJy7NixixcvWjZu3rz5o48+2r9/f2lp6WOPPRYRERESEnIXkwMAcO+wcj4Qq6ZMmfLJJ5/c4c4LFy58/vnnfXx82m5cs2bNiy++eN9990VFRT3++OPJyck/alAAAO5hd/oWpsLCwrt8v9OZM2fCwsLMl8PCwg4cOHCbnU0mU2VlpeWqu7u7o6Pj3awOAEBXZiWx6enp5eXllqvXrl3LyclZtWrV1KlT72al6urqnj17mi+7urq2PUTdjslkqqmpGTp0qGXLm2++OWHChLtZ/eY1OvLeAKA74xeiSan6+nqtVttJ9+/g4GAp4K1Y6fGrr77a7vXVPj4+s2fPfv311+9mGm9v7+rqavPlqqqqtmfibEej0Xh4eJw7d+5ulvsPNJpOvHMA6Fb4hahRysXFxdXVVXCG/3x+Lr1e7+zsfPcrDRkyJCMjIzY2VimVkZERGRl59/cJAMC9oVPOz5WRkXHixImioqLDhw87ODhMmjTJ19d38eLF06dPDw4OLi0t3bt371tvvXWXqwAAcM+w/hKtmpqa9evXZ2ZmXrp0yc/PLzIyct68eb169brDO62oqCgsLBw/frxSqrCw0Hy2r4cffnjDhg0bN27U6/UHDx7s27dvR/0bAADo7qz0+NKlS6NGjTp79mxISIifn19mZubGjRvfe++9r776KjAw8E7udNy4cePGjbt5e0JCQkJCwt2ODADAPcfK+4+XLFly7dq1zMzMvLy8tLS03Nzc7OxsBweHl156yfbzAQBgD6z0eP/+/a+//nrbtxuFhYUtX758//79NhwMAAA7YqXHjY2NBoOh3UZPT0+rH/oEAADunpUeR0REvP/++83NzZYtra2t77///pAhQ2w4GAAAdsTK67lee+21MWPGhISEzJgxw8fHp6ysbOvWrQUFBampqbafDwAAe2Clx7Gxsenp6X/+85/Xrl179epVg8EQGRm5atWqO/xwJwAA8GNZf//xyJEj9+7dq5S6fv26Xq+37UgAANid/3H8OC8vLy8vr+0Wc4yLioqOHz9u07kAALAnN3p8+vTpwYMHZ2dn37xTbW3tiBEj0tLSbDgYAAB25EaPU1JSwsPDn3jiiZt3CgsLmzVr1rvvvmvDwQAAsCM3enzq1KmxY8fear8xY8acOHHCJiMBAGB3bvT40qVLt/nECE9Pz+LiYpuMBACA3bnR4969excWFt5qv4KCgt69e9tkJAAA7M6NHsfGxm7ZsqWsrOzmnZqbm9esWRMbG2vDwQAAsCM3erxgwQInJ6exY8dmZWW13ePChQszZsw4efLk73//e5uPBwCAXbhxPhCDwbBjx44pU6ZERkYGBgYGBQX16NHj3LlzBQUFWq123bp1bT/xCQAAdKD/cT6QmJiYkydPvvrqqz4+PqdOnTp27Jher3/uueeys7NnzZolNSIAAPe89ufL9Pb2Xrp06dKlSyWGAQDATln5vEUAAGBj9BgAAHn0GAAAefQYAAB59BgAAHn0GAAAefQYAAB59BgAAHn0GAAAefQYAAB59BgAAHn0GAAAefQYAAB59BgAAHn0GAAAefQYAAB59BgAAHn0GAAAefQYAAB59BgAAHn0GAAAefQYAAB59BgAAHn0GAAAefQYAAB59BgAAHn0GAAAefQYAAB59BgAAHn0GAAAefQYAAB59BgAAHn0GAAAefQYAAB59BgAAHn0GAAAefQYAAB59BgAAHn0GAAAefQYAAB59BgAAHn0GAAAefQYAAB59BgAAHn0GAAAefQYAAB59BgAAHn0GAAAefQYAAB59BgAAHn0GAAAefQYAAB59BgAAHn0GAAAefQYAAB59BgAAHn0GAAAefQYAAB59BgAAHn0GAAAefQYAAB59BgAAHn0GAAAefQYAAB59BgAAHn0GAAAefQYAAB59BgAAHn0GAAAefQYAAB59BgAAHn0GAAAefQYAAB5TjZbKScnJzEx0XJ17dq1AQEBNlsdAICuzHY9rqysvHz5cnJysvlqnz59bLY0AABdnO16rJRycXEZNmyYLVcEAKBbsOnx49zc3ODg4Ojo6A8++MBkMt1mT5PJVPlv1dXVNpsQAAARtnt8HBwcfODAgQceeCAnJ+fXv/61s7PzvHnzrO5pMplqamqCgoLMVzUazT/+8Y+JEyd25DS3/WsAAOwKvxBNStXX12u12k66fwcHh549e95+H9v12M/Pz8/PTyn1yCOPJCUlffHFF7fqsUaj8fDwuHr1aidOo9F04p0DQLfCL0SNUi4uLq6uroIzyLzfqaamRq/XiywNAEAXZLvHx8nJyQ4ODoGBgTk5OStWrNi0aZPNlgYAoIuzXY/9/f0//vjjK1eu+Pn57dq166GHHrLZ0gAAdHG263F8fHx8fLzNlgMAoBvhfJkAAMijxwAAyKPHAADIo8cAAMijxwAAyKPHAADIo8cAAMijxwAAyKPHAADIo8cAAMijxwAAyKPHAADIo8cAAMijxwAAyKPHAADIo8cAAMijxwAAyKPHAADIo8cAAMijxwAAyKPHAADIo8cAAMijxwAAyKPHAADIo8cAAMijxwAAyKPHAADIo8cAAMijxwAAyKPHAADIo8cAAMijxwAAyKPHAADIo8cAAMijxwAAyKPHAADIo8cAAMijxwAAyKPHAADIo8cAAMijxwAAyKPHAADIo8cAAMijxwAAyKPHAADIo8cAAMijxwAAyKPHAADIo8cAAMijxwAAyKPHAADIo8cAAMijxwAAyKPHAADIo8cAAMijxwAAyKPHAADIo8cAAMijxwAAyKPHAADIo8cAAMijxwAAyKPHAADIo8cAAMijxwAAyKPHAADIo8cAAMijxwAAyKPHAADIo8cAAMijxwAAyKPHAADIo8cAAMijxwAAyKPHAADIo8cAAMijxwAAyKPHAADIo8cAAMijxwAAyKPHAADIo8cAAMijxwAAyKPHAADIo8cAAMijxwAAyKPHAADIo8cAAMijxwAAyKPHAADIs9MeG1tbpUeQZzJJT4AuwMTPgd1/AxQ/Bkq1tLS0SnfBpj1etWrVz372s7i4uD179thy3Zu1SH/fuwZ7/x8IxQ8BlFJKGe2+x03NzbW1tbIzONlspZ07dy5btmzbtm2XL1/+5S9/eezYsaCgIJutDgBAV2a7x8crV65MTEyMiIhISEiYPn36+vXrbbY0AABdnO16nJeXN2TIEPPliIiIvLw8my0NAEAXp7HZYXxPT89Dhw5FREQopVJSUtavX5+enm51z6amJr1e33ZLz549tVptBw5T7dTLyad/B95ht9NaWWIsK9RIjyHL5OCoMdr1KwlMxlbl4MiPAT8G/BiYlMndWefg0FmPUXU63ZkzZ9zd3W+zj+2OH/fu3bumpsZ8ubq6unfv3rfas0ePHkaj0VZzAQAgz3bPV4eGhmZmZpovZ2ZmhoeH22xpAAC6ONs9Pn7uuefmzZsXGRlZWlq6c+fOrKwsmy0NAEAXZ7vjx0qpTZs2bdiwQa/XJyYmjhw50mbrAgDQxdm0xwAAwCo7PV8mAABdiu2OH3cRTU1N2dnZ586dS0hIuP1Lz+9Vra2t3377bXZ2toeHx/jx4728vKQnEpCZmZmVlVVXVxceHj569GjpcSQdO3bs8uXLEydOlB5EQHp6enl5uflyYGDggw8+KDuPlEOHDmVlZXl7e48bN85gMEiPY1ONjY07duxou2XUqFHe3t4iw9jd89V9+/bt27fvyZMnc3JyBg4cKD2OgCVLlhw+fHjkyJHFxcVffvnlt99+O2DAAOmhbG38+PEDBgxwc3P7/PPPo6Ojk5OTpSeScfHixejoaEdHx4sXL0rPIuDhhx/28PDo16+fUiomJmbu3LnSEwmYO3fusWPHJkyYUFFRYT55ovRENlVbW5uUlGS+XFlZ+fnnnxcWFgYGBooMY3c9bmxs1Ol07u7uGRkZ9tnjmpoayxMDc+bM8fHxWb58uexIgoqKioKCgurq6pydnaVnETB16tTo6OgPP/zQbnu8dOnSuLg46UHEHDhwYOHChSdOnGh3Cib79O677+7atWv//v1SA9jd8WOdTic9grC2z9I3Nzf37NlTcBhxR44ceeCBB+zzl1FKSkrfvn3t/On67du3r1ix4uDBg9KDyPjkk09mzZqVmpr61ltvWc4PYbfWr18/b948wQHsrsewOHTo0IEDB5599lnpQWRMmjTJzc1t8eLFKSkpGo3dnSvw8uXLy5cvf+ONN6QHkTR8+HCDwVBXVzd//vznn39eehwBP/zww9q1a9PT041G46RJkz799FPpicT861//Kioqmjp1quQQJrvk5uaWm5srPYWk48eP+/n5HTp0SHoQSQ0NDatXr/bz86uurpaexdamTZu2detWk8l05MiRfv36SY8j7MKFC05OTpcuXZIexNYSEhImT55svrxx48ahQ4fKziPo2WefXbRokewMPD62Rzk5OZMmTVq/fn1sbKz0LJKcnZ2ffvppBweH7Oxs6Vls7csvv5w/f77BYEhISCgpKTEYDFevXpUeSoy/v7+Hh0dJSYn0ILYWEBBgee3ST37ykytXrsjOI+XatWubNm2SfbJa8Xy1HTp9+vTEiRM//PDDsWPHSs8io7q6uri42Hz566+/rqio+OlPfyo7ku01NDRUVFRUVFTs3bvX19e3oqLC3t751tDQcP78efPlDRs2mEymkJAQ2ZFs71e/+tWBAwfq6+uVUtu2bYuJiZGeSMaWLVsCAgIiIyNlx7C79x+PGDHi6NGjSqlBgwZpNBo7/CCpt99++/z585MnTzZf/cUvfrF582bZkWzs6tWrsbGxTk5OGo2mtbV1w4YNffr0kR4KtlZTU/Pggw/q9XqTydSjR4/Nmze7uLhID2Vro0aNmjBhQkhIiLu7u7u7u90eP167du2CBQukp7C/9zsBZmVlZY6OjvZ29gO0c+XKFa1W6+npKT2IpLq6uqamJv4viKPHAADI4/gxAADy6DEAAPLoMQAA8ugxAADy6DEAAPLoMQAA8ugxIM9oNGb+2+nTpy9dunTzPo2NjTNnzjx8+HBHLZqbm5ufn3+rYS5cuHCbr92zZ8/s2bM7ahIAih4DXUFTU1PUv4WEhPj7+xsMhieffPLUqVOWfZqbmz/99NMffvihoxZ99913o6Kiamtr221PS0uLiorKyMi4zdeePn3a3k7rBnQ2egx0FUlJSRUVFcXFxTk5OW+88UZGRsawYcP27dtnvtXFxaWoqGjatGkdtdzcuXPr6+s/++yzdtuTk5O9vLwmTZrUUQsBuBN2d/5qoMtydnY2n7jR19c3LCzsiSeeGD58+FNPPVVQUODs7Gw0GjMyMoYPHx4QEGDev7m5eefOndnZ2U5OTuHh4WPHjnV2djbfdP78+R07dly8eDEoKGjGjBlWT4UYExMzaNCg5OTkth9rU11d/cUXXzzzzDM6na6srCwtLe3MmTN6vT4sLCwhIcHR0fHm+ykvL09PTx87dqyHh4d5S15e3pkzZ6ZMmWLZ5/vvv9+9e3dpaWlwcPDjjz/u5ubWQd8z4B4i+3GPAEwm07Vr15RSf/rTn9ptX7dunVJq586dJpPJ/MSy+ZOITCbT+fPnBw0a5OzsPGrUqHHjxvXt23f58uXmmzZs2KDT6UJCQiZPnhwQENCnT5+cnByr665YsUIplZ+fb9mycuVKpdR3331nMpm8vLwGDRo0adKk0aNHa7XaRx99tLGx0bzbO++8o9PpzJe/+eYbpVTbJV5//XWDwWC5+t5775n/Ypg8ebKvr29AQEBhYeFdfLeAexPPVwNd18iRI5VSVj+eec6cOVVVVVlZWenp6ampqRcuXJg1a5ZS6vvvv58/f35SUlJubu727dvz8/MHDhz49NNPW73/2bNna7Xajz76yLIlOTl56NChQ4YMUUodPnz41KlTO3bsSEtLO3r06JEjR/4Xx4yPHTv24osvvvnmm9nZ2eZ5vLy8Fi1a9GPvB7jn0WOg6+rVq5dSqrq6ut32c+fOpaenL1myxPLJzU5OTr6+vkqplJQUnU63dOlSjUajlHJ2dk5MTMzIyKipqbn5/vv06TN+/Pjk5OTW1lal1JkzZzIyMubOnWu+NSQkxGg0lpSUmB8uBwcHHz9+/Mf+E9atW9evX7/ExETzVXd398WLFx88eNAOP+oUuD2OHwNdV1VVlVLKclzW4vTp00qpoUOH3vwleXl5LS0tbT9YvqGhQSlVWFhoftTbzty5c7dv337w4MExY8asXbtWq9XOnDnTfNPf/va35cuXl5WV9erVS6PR1NXVhYaG/th/Ql5eXlVVVXR0tGVLTU3N9evXL126dN999/3YewPuYfQY6LqOHDmilBo8eHC77ebXVbW0tFj9Kh8fnzfffLPdxvvvv9/qzhMmTPD19U1OTh49evRHH33085//vHfv3kqpPXv2/O53v1u1atXs2bP1er1SasSIEVYf1JofiLfVbrD777//5nm8vLyszgPYLXoMdFG1tbXLli3z9fWNi4trd1NoaKhGozly5EhsbGy7m8LCwnbu3BkZGXmHwXNycpo1a9b7778/YcKE4uJiy5PVGRkZvr6+CxYsMF9taGjIy8vz9/e/+R7M/S4rK7Nsyc3NbTvPxo0bR4wY4eLicifzAHaL48dAV3Ht2rXKysrKysr8/Px169ZFR0cXFhauWbPG8i4mCz8/v+nTp69YscL8AFopVVVVdebMGaXU/PnzdTrdU089VVFRYb6ppqbm9q/Dmjdv3vXr1xcuXHjffffFx8ebN3p7e5eXl588eVIp1dLSkpiYaPUItFIqMDDQYDCsXr3afBB6z549W7dutdz6m9/8pqGhYcGCBZYTj1RUVLTdAcB/k36BN4D/fr9TW25ubo8//nhWVpZln3bvd6qoqIiLi3NwcOjfv394eLher3/nnXfMNx08eNDX19fZ2Xnw4MEDBgzQ6XSRkZG3H2DEiBFKqVdeeaXtcuHh4TqdLjo62sfH57HHHnvkkUdmzJhhvrXt+51MJtPq1avNLyi7//77+/fv/+yzz7Z9v9P27du9vLxcXV2HDBkSHBys1Wrj4+Pv7hsG3IM0JpNJ4K8AAG0YjcbvvvvOfNnR0dFgMPj7+zs4OLTbJzMzMygoqO0T0RkZGSdPntRqtaGhocOGDbNsv379+ldffVVUVOTq6qSOdQkAAACaSURBVDpw4MAhQ4bcfJS3rYsXL5pP1tH2tWNNTU379u0rKSkZMGDAQw89VFBQ4OjoGBQUpJS6cuXKhQsX2q6Yn5//z3/+08XFZdy4cTU1NaWlpREREZZb6+vr09PTi4uL3d3dQ0NDw8PD/5ffKeDeRY8BAJDH8WMAAOTRYwAA5NFjAADk0WMAAOTRYwAA5NFjAADk0WMAAOT9f/o9y1zjgnzMAAAAAElFTkSuQmCC\" />"
            ]
          }
        }
      ],
      "source": [
        "histogram(dice_rolls, legend=:false, bins=6)\n",
        "ylabel!(\"Count\")\n",
        "xlabel!(\"Dice Value\")"
      ],
      "id": "d7bb2ad0"
    },
    {
      "cell_type": "markdown",
      "metadata": {},
      "source": [
        "**Remember to**:\n",
        "\n",
        "-   Evaluate all of your code cells, in order (using a `Run All`\n",
        "    command). This will make sure all output is visible and that the\n",
        "    code cells were evaluated in the correct order.\n",
        "-   Tag each of the problems when you submit to Gradescope; a 10%\n",
        "    penalty will be deducted if this is not done."
      ],
      "id": "172cee20-f924-48b1-b3c1-e3c22c5bd968"
    },
    {
      "cell_type": "markdown",
      "metadata": {},
      "source": [
        "## Exercises (10 points)\n",
        "\n",
        "In Problem 1, you will compute the probability of getting a specific\n",
        "combination of multiple dice rolls. The focus will be on understanding\n",
        "how the Monte Carlo estimate changes based on the number of simulations.\n",
        "\n",
        "In Problem 2, we will implement the culmination of every episode of the\n",
        "long-running game show [The Price Is\n",
        "Right](https://en.wikipedia.org/wiki/The_Price_Is_Right): the\n",
        "[Showcase](https://en.wikipedia.org/wiki/The_Price_Is_Right#Showcase).\n",
        "You will be asked to make a plot of expected winnings by bid for a\n",
        "particular distribution of prize values.\n",
        "\n",
        "You should always start any computing with random numbers by setting a\n",
        "“seed,” which controls the sequence of numbers which are generated\n",
        "(since these are not *really* random, just “pseudorandom”). In Julia, we\n",
        "do this with the `Random.seed!()` function.\n",
        "\n",
        "``` julia\n",
        "Random.seed!(1)\n",
        "```\n",
        "\n",
        "    TaskLocalRNG()\n",
        "\n",
        "It doesn’t matter what seed you set, though different seeds might result\n",
        "in slightly different values. But setting a seed means every time your\n",
        "notebook is run, the answer will be the same.\n",
        "\n",
        "> **Seeds and Reproducing Solutions**\n",
        ">\n",
        "> If you don’t re-run your code in the same order or if you re-run the\n",
        "> same cell repeatedly, you will not get the same solution. If you’re\n",
        "> working on a specific problem, you might want to re-use\n",
        "> `Random.seed()` near any block of code you want to re-evaluate\n",
        "> repeatedly."
      ],
      "id": "60db1560-0c67-4bbc-9e13-be8baeaacea9"
    },
    {
      "cell_type": "markdown",
      "metadata": {},
      "source": [
        "### Problem 1 (5 points)\n",
        "\n",
        "We want to know the probability of getting at least an 11 from rolling\n",
        "three fair, six-sided dice (this is actually an old Italian game called\n",
        "*passadieci*, which was analyzed by Galileo as one of the first examples\n",
        "of a rigorous study of probability)."
      ],
      "id": "cbbe3ece-356e-49d3-99f9-b94ec5efb1c2"
    },
    {
      "cell_type": "markdown",
      "metadata": {},
      "source": [
        "#### Problem 1.1 (1 point)\n",
        "\n",
        "Write a function called `passadieci()` to simulate this game, which will\n",
        "take as an input the number of realizations and output a vector of the\n",
        "sum of the three dice rolls for each realization."
      ],
      "id": "5a8e8b48-d590-481a-99e3-b3fb51208178"
    },
    {
      "cell_type": "markdown",
      "metadata": {},
      "source": [
        "### Problem 1.2 (2 points)\n",
        "\n",
        "Generate 5,000 simulations of the game using your `passadieci()`\n",
        "function. Plot how the computed probability of winning the game changes\n",
        "as the number of simulations increases (you can do this by computing the\n",
        "frequency of wins for each additional simulation)."
      ],
      "id": "0fdec7d3-a265-493e-bc80-11d6295988b0"
    },
    {
      "cell_type": "markdown",
      "metadata": {},
      "source": [
        "### Problem 1.3 (2 point)\n",
        "\n",
        "Based on your plot from Problem 1.2, how many simulations were needed\n",
        "for the win probability estimate to converge? What did you notice from\n",
        "your plot about the estimates prior to convergence?"
      ],
      "id": "aad2d504-5539-4c79-872f-b71398642c4a"
    },
    {
      "cell_type": "markdown",
      "metadata": {},
      "source": [
        "## Problem 2 (5 points)\n",
        "\n",
        "The Showcase is the final round of every episode of The Price is Right,\n",
        "matching the two big winners from the episode. Each contestant is shown\n",
        "a “showcase” of prizes, which are usually some combination of a trip, a\n",
        "motor vehicle, some furniture, and maybe some other stuff. They then\n",
        "each have to make a bid on the retail price of the showcase. The rules\n",
        "are:\n",
        "\n",
        "-   an overbid is an automatic loss;\n",
        "-   the contest who gets closest to the retail price wins their\n",
        "    showcase;\n",
        "-   if a contestant gets within \\$250 of the retail price and is closer\n",
        "    than their opponent, they win both showcases.\n",
        "\n",
        "Your goal is to find a wager which maximizes your expected winnings,\n",
        "which we may as well call utility, based on your assessment of the\n",
        "probability of your showcase retail price. We’ll assume that the\n",
        "distribution of all showcases offered by the show is given as truncated\n",
        "normal distribution, which means a normal distribution which has an\n",
        "upper and/or lower bound. `Distributions.jl` makes it easy to specify\n",
        "truncations on any distribution, not just normal distributions. For\n",
        "example, we’ll use this distribution for the showcase values:\n",
        "\n",
        "``` julia\n",
        "showcase_dist = truncated(Normal(31000, 4500), lower=5000, upper=42000)\n",
        "```\n",
        "\n",
        "    Truncated(Normal{Float64}(μ=31000.0, σ=4500.0); lower=5000.0, upper=42000.0)"
      ],
      "id": "095f00ec-db80-4bb8-b246-8b93894dc3be"
    },
    {
      "cell_type": "markdown",
      "metadata": {},
      "source": [
        "#### Problem 2.1 (3 points)\n",
        "\n",
        "Write a function `showcase()` which takes in a bid value and uses Monte\n",
        "Carlo simulation to compute the expected value of the winnings. Make the\n",
        "following assumptions about your expected winnings if you don’t overbid:\n",
        "\n",
        "-   If you win both showcases, the value is the double of the single\n",
        "    showcase value.\n",
        "-   If you did not win both showcases but bid under the showcase value,\n",
        "    the probability of being outbid increases linearly as the distance\n",
        "    between your bid and the value increases (in other words, if you bid\n",
        "    the exact value, you win with probability 1, and if you bid \\$0, you\n",
        "    win with probability 0).\n",
        "\n",
        "How did you decide how many samples to use within the function?"
      ],
      "id": "73c629a9-8671-4c8e-93d6-45b9561d584f"
    },
    {
      "cell_type": "markdown",
      "metadata": {},
      "source": [
        "#### Problem 2.2 (2 points)\n",
        "\n",
        "Plot the expected winnings for bids ranging from \\$0 to \\$42,000. What\n",
        "do you notice?"
      ],
      "id": "0b743022-0349-4a87-a312-da19b4022a37"
    },
    {
      "cell_type": "markdown",
      "metadata": {},
      "source": [
        "## References\n",
        "\n",
        "Put any consulted sources here, including classmates you worked with/who\n",
        "helped you."
      ],
      "id": "ba3bdd32-2284-4315-8e43-405a487b17ea"
    }
  ],
  "nbformat": 4,
  "nbformat_minor": 5,
  "metadata": {
    "kernelspec": {
      "name": "julia-1.9",
      "display_name": "Julia 1.9.3",
      "language": "julia"
    },
    "language_info": {
      "name": "julia",
      "file_extension": ".jl",
      "mimetype": "application/julia",
      "version": "1.9.3"
    }
  }
}